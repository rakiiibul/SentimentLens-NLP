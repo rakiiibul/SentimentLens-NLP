{
 "cells": [
  {
   "attachments": {},
   "cell_type": "markdown",
   "metadata": {},
   "source": [
    "Title: Sentiment Analysis on a Custom Text Dataset    \n",
    "Author: Raikibul Hasan"
   ]
  },
  {
   "attachments": {},
   "cell_type": "markdown",
   "metadata": {},
   "source": [
    "**Table of contents**<a id='toc0_'></a>    \n",
    "- [Preparation](#toc1_)    \n",
    "    - [Install libraries](#toc1_1_1_)    \n",
    "    - [Import libraries](#toc1_1_2_)    \n",
    "- [Data Expolaration](#toc2_)  \n",
    "    - [Load the dataset & overview of the data](#_)     \n",
    "    - [Identify and handling missing data](#_)      \n",
    "    - [Visualize the distribution](#_)   \n",
    "- [Sentiment Analysis](#toc3_)\n",
    "    "
   ]
  },
  {
   "cell_type": "code",
   "execution_count": null,
   "metadata": {},
   "outputs": [],
   "source": []
  }
 ],
 "metadata": {
  "kernelspec": {
   "display_name": "Python 3",
   "language": "python",
   "name": "python3"
  },
  "language_info": {
   "name": "python",
   "version": "3.11.9"
  },
  "orig_nbformat": 4,
  "vscode": {
   "interpreter": {
    "hash": "5ffd0ea7fd065ad85c5954e9fc46f8d75dcd310268ff8b0facad77217579b9e7"
   }
  }
 },
 "nbformat": 4,
 "nbformat_minor": 2
}
